{
 "cells": [
  {
   "cell_type": "code",
   "execution_count": 22,
   "metadata": {},
   "outputs": [],
   "source": [
    "### Algorithms 1, 2 in OPTIMA_2021 and new subgradient algorithm (2.1) in the paper to Math. Notes\n",
    "\n",
    "import math\n",
    "from datetime import datetime\n",
    "\n",
    "import numpy as np\n",
    "from scipy.optimize import minimize"
   ]
  },
  {
   "cell_type": "code",
   "execution_count": 23,
   "metadata": {},
   "outputs": [
    {
     "name": "stdout",
     "output_type": "stream",
     "text": [
      "mu = 0.008333333333333331\n"
     ]
    }
   ],
   "source": [
    "n = 1000      # the dimension of the problem\n",
    "p = 2         # this parameter in the prox function and Bregman divergence\n",
    "M = 1         # f is M-relative Lipschitz\n",
    "a = 0.2       # this is the upper boud of the cube Q = [-a,a]^n\n",
    "mu = (p-1)/((2*p-1)*(np.power(a*math.sqrt(n),p)))\n",
    "print ('mu =' , mu)"
   ]
  },
  {
   "cell_type": "code",
   "execution_count": 3,
   "metadata": {},
   "outputs": [],
   "source": [
    "# ### projection on to the cube {x, -a <= x[i] <= a}\n",
    "# def proj_cube(x):\n",
    "#     for i in range(len(x)):\n",
    "#         if x[i] < -1*a:\n",
    "#             x[i] = -1*a\n",
    "#         elif x[i]> a:\n",
    "#             x[i] = a\n",
    "#     return np.array(x)"
   ]
  },
  {
   "cell_type": "code",
   "execution_count": 32,
   "metadata": {},
   "outputs": [],
   "source": [
    "### the objective function. 1-relative Lipschitz and strongly relative\n",
    "def f(x):\n",
    "    return (1/p)*(np.power(np.linalg.norm(x), p)) \n",
    "\n",
    "### operator g = the gradient of the function f: grad(f)=g(x)\n",
    "def g(x):\n",
    "    return (np.linalg.norm(x) ** (p - 2)) * x\n",
    "    # return np.multiply(np.power(np.linalg.norm(x), p-2),x)"
   ]
  },
  {
   "cell_type": "code",
   "execution_count": 31,
   "metadata": {},
   "outputs": [],
   "source": [
    "### the prox function\n",
    "def h(x):\n",
    "    return (1/(2*p))*(np.power(np.linalg.norm(x), 2*p))\n",
    "\n",
    "### the gradient of the prox function h\n",
    "def grad_h(x):\n",
    "    return (np.linalg.norm(x) ** (2*p-2)) * x\n",
    "    # return np.multiply(np.power(np.linalg.norm(x), 2*p-2),x)"
   ]
  },
  {
   "cell_type": "code",
   "execution_count": 26,
   "metadata": {},
   "outputs": [],
   "source": [
    "### The Bregmann Divergence for the prox function h\n",
    "def V(y,x):  # x,y in R^{n}. \n",
    "    term_1 = np.power(np.linalg.norm(y), 2*p)\n",
    "    term_2 = (2*p-1)*np.power(np.linalg.norm(x), 2*p) \n",
    "    term_3 = (2*p)*np.power(np.linalg.norm(x), 2*p-2)*np.dot(x,y)\n",
    "    return (1/(2*p))* (term_1 + term_2 - term_3)"
   ]
  },
  {
   "cell_type": "code",
   "execution_count": 27,
   "metadata": {},
   "outputs": [
    {
     "name": "stdout",
     "output_type": "stream",
     "text": [
      "L_0 = 1.0\n"
     ]
    }
   ],
   "source": [
    "### L_0 \n",
    "L0 = np.linalg.norm(np.subtract(g([1]+[0]*(n-1)),g([0,1]+[0]*(n-2))))/math.sqrt(2)\n",
    "print (\"L_0 =\" , L0 )"
   ]
  },
  {
   "cell_type": "code",
   "execution_count": 28,
   "metadata": {},
   "outputs": [
    {
     "name": "stdout",
     "output_type": "stream",
     "text": [
      "R = 74.83314773547883\n",
      "f(x0) = 20.000000000000014\n"
     ]
    }
   ],
   "source": [
    "x0 = [0.2]*n      \n",
    "R = (a**p)*math.sqrt((3+(((-1)**p)/p))*(n**p))\n",
    "\n",
    "print ('R =' , R)\n",
    "print ('f(x0) =' , f(x0))"
   ]
  },
  {
   "cell_type": "code",
   "execution_count": 29,
   "metadata": {},
   "outputs": [],
   "source": [
    "bnds = [(-a, a)] * n\n",
    "def arg_min_new(r,s):         # r=x_k is a vector in R^n, s=h_k is a constant in R\n",
    "    initial = x0\n",
    "    h = lambda x: s*np.dot(g(r), x) + V(x,r)  \n",
    "    return minimize(h, initial , method='SLSQP', bounds=bnds)['x']\n",
    "\n",
    "def arg_min_old(r,s):         # r=x_k is a vector in R^n, s=L_{k+1} is a constant in R\n",
    "    initial = x0\n",
    "    h = lambda x: np.dot(g(r), x) + s*V(x,r)  \n",
    "    return minimize(h, initial , method='SLSQP', bounds=bnds)['x']"
   ]
  },
  {
   "cell_type": "code",
   "execution_count": 30,
   "metadata": {},
   "outputs": [],
   "source": [
    "def in_cube(x):\n",
    "    return all(-alpha <= val <= alpha for val in x)"
   ]
  },
  {
   "cell_type": "code",
   "execution_count": 36,
   "metadata": {},
   "outputs": [],
   "source": [
    "### Algorithm 2: Adaptation to Inexactness for Relatively Bounded VI's. this is algorithm 2 in the paper\n",
    "delta_0 = 0.2\n",
    "\n",
    "def Algorithm2_AIRB(iterations_list):\n",
    "    \n",
    "    Time_Algorithm2_AIRB = []\n",
    "    estimate_Algorithm2_AIRB = []\n",
    "\n",
    "\n",
    "    for K in iterations_list:\n",
    "        L = L0/2   # L_1\n",
    "        delta = delta_0/2               # delta_1\n",
    "\n",
    "        x = np.array(x0)                         # this is for the first iteration \n",
    "\n",
    "        S_N = 0                        # this sum for stopping criterion                    \n",
    "        Sum_out = [0]*n                  # this sum for the output, the solution of the problem\n",
    "        Sum_in_estimate = 0              # this sum for the estimate of the solution.\n",
    "\n",
    "        k = 0\n",
    "\n",
    "        start_time = datetime.now()\n",
    "\n",
    "        for k in range(1, K):\n",
    "            if (in_cube(x)):\n",
    "                # the vector c in the solution of the sub problem\n",
    "                c_sol = (1/L) * np.array(g(x)) - grad_h(x)  # c in the solution for x^{k+1}   \n",
    "                theta = (np.linalg.norm(c_sol) ** ((2-2*p)/(2*p-1)))\n",
    "                x1 = - theta * c_sol\n",
    "            else:\n",
    "                x1 = arg_min_old(x, L)\n",
    "            \n",
    "            if g(x) @ (x1-x) + L*V(x1,x) + delta >= 0:\n",
    "                S_N += 1/L            # add 1/L to S_N\n",
    "                Sum_out = np.sum([Sum_out, np.divide(x1,L)],axis=0)  # add one new term to the sum in the output\n",
    "                L = L/2               # L^(N+1)=L^N/2           \n",
    "                delta = delta/2       # delta^(N+1)=delta^N/2\n",
    "                x = x1\n",
    "            else:\n",
    "                L = 2*L               # L^(N+1)=2*L^N.          \n",
    "                delta = 2*delta       # delta^(N+1)=2*delta^N. \n",
    "                        \n",
    "            Sum_in_estimate += delta/L  # add one new term to the sum in the estimate\n",
    "            \n",
    "#             if not(k < K):           # this is the stopping criterion\n",
    "#                 break           \n",
    "        end_time=datetime.now()\n",
    "        x_out = 1/S_N*Sum_out                    # this is the output of the algorithm\n",
    "        estimate = round((R**2/S_N) + (1/S_N)*Sum_in_estimate, 8)\n",
    "        Time_algorithm = (end_time-start_time).total_seconds() \n",
    "        Time_Algorithm2_AIRB.append(round(Time_algorithm,3))\n",
    "        estimate_Algorithm2_AIRB.append(estimate) \n",
    "    return (Time_Algorithm2_AIRB, estimate_Algorithm2_AIRB)"
   ]
  },
  {
   "cell_type": "code",
   "execution_count": 18,
   "metadata": {},
   "outputs": [],
   "source": [
    "### New subgradient Algorithm for VI\n",
    "def Subgrad_VT(iterations_list):\n",
    "    \n",
    "    Time_Subgrad_VT = []\n",
    "    estimate_Subgrad_VT = []\n",
    "\n",
    "    for K in iterations_list:\n",
    "\n",
    "        x = x0                         # this is for the first iteration \n",
    "        k = 0\n",
    "        \n",
    "        start_time = datetime.now()      \n",
    "\n",
    "        while(True):\n",
    "            h_k = 2/(mu*(k+1))\n",
    "            #print ('h_k = ' , h_k)\n",
    "            \n",
    "            if (in_cube(x)):\n",
    "                c_sol = np.multiply(h_k, g(x)) - grad_h(x) # c in the solution for x^{k+1}\n",
    "                theta = (np.power(np.linalg.norm(c_sol),2-2*p))**(1/(2*p-1))\n",
    "                x1 = np.dot(-1*theta, c_sol)\n",
    "            else:\n",
    "                x1 = arg_min_new(x, h_k)\n",
    "             \n",
    "            x = x1\n",
    "            k += 1\n",
    "        \n",
    "            if not(k < K):           # this is the stopping criterion\n",
    "                break           \n",
    "       \n",
    "        end_time=datetime.now()\n",
    "        estimate = round(2*(M**2)/(mu*(K+1)), 8)\n",
    "        Time_algorithm = (end_time-start_time).total_seconds() \n",
    "        Time_Subgrad_VT.append(round(Time_algorithm,3))\n",
    "        \n",
    "        estimate_Subgrad_VT.append(estimate)\n",
    "        \n",
    "        \n",
    "    return (Time_Subgrad_VT, estimate_Subgrad_VT)"
   ]
  },
  {
   "cell_type": "code",
   "execution_count": 19,
   "metadata": {},
   "outputs": [],
   "source": [
    "# iterations_list = [100, 200, 300, 400, 500, 1000, 1500, 2000, 2500, 5000, 10000, 15000, 20000, 25000, 30000, 35000,\n",
    "#                    40000, 45000, 50000, 55000, 60000, 65000, 70000, 80000, 90000, 100000,115000, 130000, 145000, \n",
    "#                    160000, 180000, 200000, 250000, 300000, 500000, 1000000, 2000000, 3000000, 4000000, 5000000]\n",
    "\n",
    "iterations_list = [100, 200, 300, 400, 500, 1000, 1500, 2000, 2500, 5000, 10000]"
   ]
  },
  {
   "cell_type": "code",
   "execution_count": 40,
   "metadata": {
    "scrolled": true
   },
   "outputs": [
    {
     "name": "stdout",
     "output_type": "stream",
     "text": [
      "The results of Algorithm 2: Adaptation to Inexactness for Relatively Bounded VI\n",
      "-------------------------------------------------------------------------------\n",
      "\n",
      "Time = [(0.058, 100), (0.098, 200), (0.149, 300), (0.199, 400), (0.249, 500), (0.502, 1000), (0.748, 1500), (1.002, 2000), (1.264, 2500), (2.566, 5000), (5.409, 10000)]\n",
      "\n",
      "estimate = [114.68979592, 72.30512821, 54.94951456, 44.3734375, 37.25359477, 20.86258993, 14.63970223, 11.36325758, 9.34119449, 5.16416275, 3.00625]\n"
     ]
    }
   ],
   "source": [
    "results_Algorithm2_AIRB = Algorithm2_AIRB(iterations_list)\n",
    "\n",
    "Time_Algorithm2_AIRB = results_Algorithm2_AIRB[0]\n",
    "estimate_Algorithm2_AIRB = results_Algorithm2_AIRB[1]\n",
    "\n",
    "print ('The results of Algorithm 2: Adaptation to Inexactness for Relatively Bounded VI')\n",
    "print ('-------------------------------------------------------------------------------')\n",
    "\n",
    "print ('\\nTime =' , [(i, j) for i,j in zip(Time_Algorithm2_AIRB, iterations_list)])\n",
    "print ()\n",
    "print ('estimate =' , estimate_Algorithm2_AIRB)"
   ]
  },
  {
   "cell_type": "code",
   "execution_count": null,
   "metadata": {},
   "outputs": [],
   "source": [
    "results_Subgrad_VT = Subgrad_VT(iterations_list)\n",
    "\n",
    "Time_Subgrad_VT = results_Subgrad_VT[0]\n",
    "estimate_Subgrad_VT = results_Subgrad_VT[1]\n",
    "\n",
    "print ('The results of Subgrad for VT')\n",
    "print ('-----------------------------')\n",
    "\n",
    "print ('\\nTime =' , Time_Subgrad_VT)\n",
    "print ()\n",
    "print ('estimate =' , estimate_Subgrad_VT)"
   ]
  },
  {
   "cell_type": "code",
   "execution_count": 16,
   "metadata": {},
   "outputs": [
    {
     "data": {
      "image/png": "[encoded data removed]",
      "text/plain": [
       "<Figure size 576x432 with 1 Axes>"
      ]
     },
     "metadata": {
      "needs_background": "light"
     },
     "output_type": "display_data"
    }
   ],
   "source": [
    "###  Iterations and time\n",
    "import matplotlib.pyplot as plt\n",
    "\n",
    "plt.rc(\"text\", usetex=True)\n",
    "plt.figure(figsize=(8, 6))\n",
    "fontsize=20\n",
    "\n",
    "### Data\n",
    "x = iterations_list\n",
    "\n",
    "y1 = Time_Algorithm2_AIRB\n",
    "\n",
    "y2 = Time_Subgrad_VT\n",
    "\n",
    "plt.xlabel('iterations', fontsize=fontsize)\n",
    "plt.ylabel('Time (sec.)', fontsize=fontsize)\n",
    "plt.xticks(fontsize=fontsize)\n",
    "_ = plt.yticks(fontsize=fontsize)\n",
    "\n",
    "\n",
    "plt.plot(x,y1, ':' , linewidth=2, color= 'black')  #****\n",
    "plt.plot(x,y2,'--', linewidth=2, color= 'black')  #****\n",
    "\n",
    "plt.legend(['AIRB' , 'Subgrad VT'],fontsize=fontsize)  # ***\n",
    "\n",
    "#plt.xscale('log')\n",
    "#plt.yscale('log')\n",
    "\n",
    "plt.grid(1)\n",
    "\n",
    "plt.show()"
   ]
  },
  {
   "cell_type": "code",
   "execution_count": 17,
   "metadata": {},
   "outputs": [
    {
     "data": {
      "image/png": "[encoded data removed]",
      "text/plain": [
       "<Figure size 576x432 with 1 Axes>"
      ]
     },
     "metadata": {
      "needs_background": "light"
     },
     "output_type": "display_data"
    }
   ],
   "source": [
    "plt.rc(\"text\", usetex=True)\n",
    "plt.figure(figsize=(8, 6))\n",
    "fontsize=20\n",
    "\n",
    "### Data\n",
    "x = iterations_list\n",
    "\n",
    "y1 = estimate_Algorithm2_AIRB\n",
    "\n",
    "y2 = estimate_Subgrad_VT\n",
    "\n",
    "plt.xlabel('iterations', fontsize=fontsize)\n",
    "plt.ylabel('Estimate', fontsize=fontsize)\n",
    "plt.xticks(fontsize=fontsize)\n",
    "_ = plt.yticks(fontsize=fontsize)\n",
    "\n",
    "\n",
    "plt.plot(x,y1, ':' , linewidth=2, color= 'black')  #****\n",
    "plt.plot(x,y2,'--', linewidth=2, color= 'black')  #****\n",
    "\n",
    "plt.legend(['AIRB' , 'Subgrad VT'],fontsize=fontsize)  # ***\n",
    "\n",
    "#plt.xscale('log')\n",
    "plt.yscale('log')\n",
    "\n",
    "plt.grid(1)\n",
    "\n",
    "plt.show()"
   ]
  },
  {
   "cell_type": "code",
   "execution_count": null,
   "metadata": {},
   "outputs": [],
   "source": []
  }
 ],
 "metadata": {
  "kernelspec": {
   "display_name": "Python 3",
   "language": "python",
   "name": "python3"
  },
  "language_info": {
   "codemirror_mode": {
    "name": "ipython",
    "version": 3
   },
   "file_extension": ".py",
   "mimetype": "text/x-python",
   "name": "python",
   "nbconvert_exporter": "python",
   "pygments_lexer": "ipython3",
   "version": "3.7.6"
  }
 },
 "nbformat": 4,
 "nbformat_minor": 2
}
